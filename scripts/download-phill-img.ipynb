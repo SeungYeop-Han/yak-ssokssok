{
 "cells": [
  {
   "cell_type": "markdown",
   "metadata": {},
   "source": [
    "## 의약품 데이터 수집"
   ]
  },
  {
   "cell_type": "markdown",
   "metadata": {},
   "source": [
    "의약품 데이터를 식약처 오픈 API(공공데이터포털)로 부터 수집한 뒤 csv로 저장한다."
   ]
  },
  {
   "cell_type": "markdown",
   "metadata": {},
   "source": [
    "### 라이브러리 import 및 환경설정"
   ]
  },
  {
   "cell_type": "code",
   "execution_count": null,
   "metadata": {},
   "outputs": [],
   "source": [
    "%reload_ext autoreload\n",
    "%autoreload 2\n",
    "%matplotlib inline"
   ]
  },
  {
   "cell_type": "code",
   "execution_count": null,
   "metadata": {},
   "outputs": [],
   "source": [
    "from IPython.display import display\n",
    "from tqdm.notebook import tqdm, trange\n",
    "from pathlib import Path\n",
    "import pandas as pd\n",
    "import numpy as np\n",
    "import urllib.request\n",
    "import json"
   ]
  },
  {
   "cell_type": "markdown",
   "metadata": {},
   "source": [
    "#### 1. 낱알식별정보 csv 파일 불러오기"
   ]
  },
  {
   "cell_type": "code",
   "execution_count": null,
   "metadata": {},
   "outputs": [],
   "source": [
    "# /dat 디렉토리 내, 이름 형식이 yyyy-mm-dd_xxhxxmxxs 인 디렉토리 하나를 선택해야 함\n",
    "import tkinter as tk\n",
    "from tkinter import filedialog\n",
    "window = tk.Tk()\n",
    "window.file = filedialog.askdirectory()\n",
    "\n",
    "filepath = f\"{window.file}\\\\csv\\\\picked-out\\\\알약외형정보.csv\"\n",
    "phill_df = pd.read_csv(filepath, index_col=0)\n",
    "\n",
    "phill_df.info()\n",
    "display(phill_df.head())\n",
    "\n",
    "window.destroy()"
   ]
  },
  {
   "cell_type": "markdown",
   "metadata": {},
   "source": [
    "### 2. 알약 이미지 다운로드"
   ]
  },
  {
   "cell_type": "markdown",
   "metadata": {},
   "source": [
    "#### 2.1. 디렉토리 생성"
   ]
  },
  {
   "cell_type": "code",
   "execution_count": null,
   "metadata": {},
   "outputs": [],
   "source": [
    "import os\n",
    "exists = os.path.exists\n",
    "\n",
    "dir = f\"{window.file}\\\\phill_img\\\\\"\n",
    "if not exists(dir):\n",
    "    os.mkdir(dir)"
   ]
  },
  {
   "cell_type": "markdown",
   "metadata": {},
   "source": [
    "#### 2.2. 이미지 다운로드 실행"
   ]
  },
  {
   "cell_type": "code",
   "execution_count": null,
   "metadata": {},
   "outputs": [],
   "source": [
    "# 주피터 노트북 에서 이벤트 루프를 사용할 때 발생하는 에러 방지\n",
    "import nest_asyncio\n",
    "nest_asyncio.apply()\n",
    "\n",
    "import asyncio\n",
    "import urllib.request as urlreq\n",
    "\n",
    "async def download_a_img(url, filepath):\n",
    "    retry_cnt = 0\n",
    "    retry_cap = 5\n",
    "    while True:\n",
    "        try:\n",
    "            return await loop.run_in_executor(None, urlreq.urlretrieve, url, filepath)\n",
    "        except Exception as e:\n",
    "            print(f\"이미지파일({filepath}) 다운로드 중 예외발생\")\n",
    "            print(f\"=> {e}\")\n",
    "            if retry_cnt >= retry_cap:\n",
    "                print(f\"재시도 횟수 초과! 이벤트 루프를 중지합니다.\")\n",
    "                loop.stop()\n",
    "\n",
    "async def download_imgs():\n",
    "    tasks = (asyncio.create_task(download_a_img(row[\"ITEM_IMAGE\"], dir + str(row[\"ITEM_SEQ\"]) + \"-\" + str(idx) + \".jpg\")) for idx, row in phill_df[[\"ITEM_SEQ\", \"ITEM_IMAGE\"]].iterrows())\n",
    "    res = await asyncio.gather(*tasks)\n",
    "    return res\n",
    "\n",
    "loop = asyncio.get_event_loop()\n",
    "res = loop.run_until_complete(download_imgs())"
   ]
  }
 ],
 "metadata": {
  "kernelspec": {
   "display_name": "Python 3",
   "language": "python",
   "name": "python3"
  },
  "language_info": {
   "codemirror_mode": {
    "name": "ipython",
    "version": 3
   },
   "file_extension": ".py",
   "mimetype": "text/x-python",
   "name": "python",
   "nbconvert_exporter": "python",
   "pygments_lexer": "ipython3",
   "version": "3.11.0"
  },
  "orig_nbformat": 4
 },
 "nbformat": 4,
 "nbformat_minor": 2
}
