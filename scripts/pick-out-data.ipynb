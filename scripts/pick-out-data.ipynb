{
 "cells": [
  {
   "cell_type": "markdown",
   "metadata": {},
   "source": [
    "## 데이터 선별"
   ]
  },
  {
   "cell_type": "markdown",
   "metadata": {},
   "source": [
    " - 확보한 의약품 데이터에 존재하는 불필요한 컬럼이나 중복을 제거합니다.  \n",
    " - 필요한 경우 데이터 내용을 변경"
   ]
  },
  {
   "cell_type": "markdown",
   "metadata": {},
   "source": [
    "### > 라이브러리 import 및 환경설정"
   ]
  },
  {
   "cell_type": "code",
   "execution_count": null,
   "metadata": {},
   "outputs": [],
   "source": [
    "%reload_ext autoreload\n",
    "%autoreload 2\n",
    "%matplotlib inline"
   ]
  },
  {
   "cell_type": "code",
   "execution_count": null,
   "metadata": {},
   "outputs": [],
   "source": [
    "from IPython.display import display\n",
    "from tqdm.notebook import tqdm, trange\n",
    "from pathlib import Path\n",
    "import pandas as pd\n",
    "import json\n",
    "import os"
   ]
  },
  {
   "cell_type": "markdown",
   "metadata": {},
   "source": [
    "### > csv 파일 불러오기"
   ]
  },
  {
   "cell_type": "code",
   "execution_count": null,
   "metadata": {},
   "outputs": [],
   "source": [
    "\n",
    "raw_dfs = {\n",
    "    \"의약품허가정보\": {\n",
    "        \"허가목록\": None,\n",
    "        \"허가상세정보\": None,\n",
    "        # \"주성분상세정보\": None,   #제외사유: 존재하는 컬럼이 모두 다른 API에 존재하거나 불필요함\n",
    "    },\n",
    "    \"낱알식별정보\": {\n",
    "        \"낱알식별정보\": None,\n",
    "    },\n",
    "    \"DUR성분정보\": {\n",
    "        # \"병용금기\": None,         #제외사유: 품목정보-병용금기의 병용금기의약품에대한 복합제 정보가 주어져있지 않거나(누락), 단일 의약품에 대해 복합 의약품으로 표시되어 있는 등의 문제점이 존재함\n",
    "        \"특정연령대금기\": None,\n",
    "        \"임부금기\": None,\n",
    "        \"용량주의\": None,\n",
    "        \"투여기간주의\": None,\n",
    "        # \"효능군중복\": None,       #제외사유: 존재하는 컬럼이 모두 다른 API에 존재하거나 불필요함\n",
    "        # \"노인주의\": None,         #제외사유: 존재하는 컬럼이 모두 다른 API에 존재하거나 불필요함\n",
    "    },\n",
    "    \"DUR품목정보\": {\n",
    "        \"병용금기\": None,\n",
    "        \"특정연령대금기\": None,\n",
    "        \"임부금기\": None,\n",
    "        \"용량주의\": None,\n",
    "        \"투여기간주의\": None,\n",
    "        \"효능군중복\": None,\n",
    "        \"서방정분할주의\": None,\n",
    "        \"노인주의\": None,\n",
    "        # \"DUR품목정보\": None,      #제외사유: 존재하는 컬럼이 모두 다른 API에 존재하거나 불필요함\n",
    "    },\n",
    "}"
   ]
  },
  {
   "cell_type": "code",
   "execution_count": null,
   "metadata": {},
   "outputs": [],
   "source": [
    "# /dat 디렉토리 내, 이름 형식이 yyyy-mm-dd_xxhxxmxxs 인 디렉토리 하나를 선택해야 함\n",
    "import tkinter as tk\n",
    "from tkinter import filedialog\n",
    "window = tk.Tk()\n",
    "window.file = filedialog.askdirectory()\n",
    "\n",
    "# 진행도 표시 위젯\n",
    "pbar = tqdm([op for service in raw_dfs for op in raw_dfs[service]], desc= \"전체 진행도\")\n",
    "\n",
    "for service, operations in raw_dfs.items():\n",
    "    for operation, dat in operations.items():\n",
    "        filepath = f\"{window.file}\\\\csv\\\\raw\\\\{service}-{operation}.csv\"\n",
    "        operations[operation] = pd.read_csv(filepath, keep_default_na=False)\n",
    "\n",
    "        pbar.update(1)\n",
    "\n",
    "window.destroy()"
   ]
  },
  {
   "cell_type": "markdown",
   "metadata": {},
   "source": [
    "### > 불필요, 중복 컬럼 제거"
   ]
  },
  {
   "cell_type": "markdown",
   "metadata": {},
   "source": [
    "#### >> 의약품허가정보-허가목록"
   ]
  },
  {
   "cell_type": "markdown",
   "metadata": {},
   "source": [
    "    ***제거대상컬럼***\n",
    "    품목명(국문)        ITEM_NAME\n",
    "    품목명(영문)        ITEM_ENG_NAME\n",
    "    품목일련번호        PRDLST_STDR_CODE    (품목기준번호 아님)\n",
    "    품목허가번호        PRDUCT_PRMISN_NO\n",
    "    품목허가일자        ITEM_PERMIT_DATE\n",
    "    전문일반구분        SPCLTY_PBLC\n",
    "    주성분수            ITEM_INGR_CNT\n",
    "    주성분명            ITEM_INGR_NAME\n",
    "    EDI코드(보험코드)   EDI_CODE\n",
    "    허가/신고구분       PERMIT_KIND_CODE\n",
    "    취하/취소상태       CANCEL_NAME\n",
    "    취하/취소일자       CANCEL_DATE\n",
    "    업종                INDUTY\n",
    "    업체명(국문)        ENTP_NAME\n",
    "    업체명(영문)        ENTP_ENG_NAME\n",
    "    업체코드            ENTP_SEQ\n",
    "    업체허가번호        ENTP_NO\n",
    "    사업자등록번호      BIZRNO"
   ]
  },
  {
   "cell_type": "code",
   "execution_count": null,
   "metadata": {},
   "outputs": [],
   "source": [
    "# 목표 데이터프레임 레퍼런스\n",
    "target = raw_dfs[\"의약품허가정보\"][\"허가목록\"]\n",
    "\n",
    "# 제거할 컬럼\n",
    "target_cols = [\n",
    "    \"ITEM_NAME\", \"ITEM_ENG_NAME\", \"PRDLST_STDR_CODE\", \"PRDUCT_PRMISN_NO\",\n",
    "    \"ITEM_PERMIT_DATE\", \"SPCLTY_PBLC\", \"ITEM_INGR_CNT\", \"ITEM_INGR_NAME\",\n",
    "    \"EDI_CODE\", \"PERMIT_KIND_CODE\", \"CANCEL_NAME\", \"CANCEL_DATE\", \"INDUTY\",\n",
    "    \"ENTP_NAME\", \"ENTP_ENG_NAME\", \"ENTP_SEQ\", \"ENTP_NO\", \"BIZRNO\"\n",
    "]\n",
    "\n",
    "target.drop(target_cols, axis=1, inplace=True)\n",
    "target.info()\n",
    "display(target)"
   ]
  },
  {
   "cell_type": "markdown",
   "metadata": {},
   "source": [
    "#### >> 의약품허가정보-허가상세정보"
   ]
  },
  {
   "cell_type": "markdown",
   "metadata": {},
   "source": [
    "    ***제거대상컬럼***\n",
    "    효능효과(링크)              EE_DOC_ID\n",
    "    용법용량(링크)              UD_DOC_ID\n",
    "    주의사항(링크)              NB_DOC_ID\n",
    "    신약                        NEWDRUG_CLASS_NAME\n",
    "    바코드                      BAR_CODE\n",
    "    재심사대상여부              REEXAM_TARGET\n",
    "    재심사기간                  REEXAM_DATE\n",
    "    제조방법                    DOC_TEXT\n",
    "    완제/원료구분               MAKE_MATERIAL_FLAG\n",
    "    총량                        TOTAL_CONTENT\n",
    "    주의사항(전문) 문서데이터   PN_DOC_DATA\n",
    "    업종                        INDUTY_TYPE\n",
    "    업체허가번호                ENTP_NO\n",
    "    변경일자                    CHANGE_DATE\n",
    "    변경이력                    GBN_NAME\n",
    "    사업자등록번호              BIZRNO"
   ]
  },
  {
   "cell_type": "code",
   "execution_count": null,
   "metadata": {},
   "outputs": [],
   "source": [
    "# 목표 데이터프레임 레퍼런스\n",
    "target = raw_dfs[\"의약품허가정보\"][\"허가상세정보\"]\n",
    "\n",
    "# 제거할 컬럼\n",
    "target_cols = [\n",
    "    \"EE_DOC_ID\", \"UD_DOC_ID\", \"NB_DOC_ID\", \"NEWDRUG_CLASS_NAME\", \n",
    "    \"REEXAM_TARGET\", \"REEXAM_DATE\", \"DOC_TEXT\", \"MAKE_MATERIAL_FLAG\",\n",
    "    \"TOTAL_CONTENT\", \"PN_DOC_DATA\", \"INDUTY_TYPE\", \"ENTP_NO\",\n",
    "    \"CHANGE_DATE\", \"GBN_NAME\", \"BIZRNO\", \"BAR_CODE\"\n",
    "]\n",
    "\n",
    "target.drop(target_cols, axis=1, inplace=True)\n",
    "target.info()\n",
    "display(target)"
   ]
  },
  {
   "cell_type": "markdown",
   "metadata": {},
   "source": [
    "#### >> 낱알식별정보-낱알식별정보"
   ]
  },
  {
   "cell_type": "markdown",
   "metadata": {},
   "source": [
    "    ***제거대상컬럼***\n",
    "    품목명(국문)                ITEM_NAME\n",
    "    품목명(영문)                ITEM_ENG_NAME\n",
    "    품목허가일자                ITEM_PERMIT_DATE\n",
    "    전문일반구분                ETC_OTC_NAME\n",
    "    분류번호                    CLASS_NO\n",
    "    분류명                      CLASS_NAME\n",
    "    보험코드(EDI코드)           EDI_CODE\n",
    "    성상                        CHART\n",
    "    크기(장축)                  LENG_LONG\n",
    "    크기(단축)                  LENG_SHORT\n",
    "    크기(두께)                  THICK\n",
    "    약학정보원 이미지 생성일     IMG_REGIST_TS\n",
    "    마크내용(앞)                MARK_CODE_FRONT_ANAL\n",
    "    마크내용(뒤)                MARK_CODE_BACK_ANAL\n",
    "    마크이미지(앞)              MARK_CODE_FRONT_IMG\n",
    "    마크이미지(뒤)              MARK_CODE_BACK_IMG\n",
    "    마크코드(앞)                MARK_CODE_FRONT\n",
    "    마크코드(뒤)                MARK_CODE_BACK\n",
    "    변경일자                    CHANGE_DATE\n",
    "    업체명(국문)                ENTP_NAME\n",
    "    업체코드                    ENTP_SEQ\n",
    "    사업자등록번호              BIZRNO"
   ]
  },
  {
   "cell_type": "code",
   "execution_count": null,
   "metadata": {},
   "outputs": [],
   "source": [
    "# 목표 데이터프레임 레퍼런스\n",
    "target = raw_dfs[\"낱알식별정보\"][\"낱알식별정보\"]\n",
    "\n",
    "# 제거할 컬럼\n",
    "target_cols = [\n",
    "    \"ITEM_NAME\", \"ITEM_ENG_NAME\", \"ITEM_PERMIT_DATE\", \"ETC_OTC_NAME\", \"CLASS_NO\",\n",
    "    \"CLASS_NAME\", \"EDI_CODE\", \"CHART\", \"LENG_LONG\", \"LENG_SHORT\", \"THICK\",\n",
    "    \"IMG_REGIST_TS\", \"MARK_CODE_FRONT_ANAL\", \"MARK_CODE_BACK_ANAL\",\n",
    "    \"MARK_CODE_FRONT_IMG\", \"MARK_CODE_BACK_IMG\", \"MARK_CODE_FRONT\", \"MARK_CODE_BACK\",\n",
    "    \"CHANGE_DATE\", \"ENTP_NAME\", \"ENTP_SEQ\", \"BIZRNO\"\n",
    "]\n",
    "\n",
    "target.drop(target_cols, axis=1, inplace=True)\n",
    "target.info()\n",
    "display(target)"
   ]
  },
  {
   "cell_type": "markdown",
   "metadata": {},
   "source": [
    "#### >> DUR품목정보"
   ]
  },
  {
   "cell_type": "markdown",
   "metadata": {},
   "source": [
    "    \n",
    "    ***** 병용금기 제외 컬럼 *****\n",
    "    DUR유형코드                 TYPE_CODE\n",
    "    DUR유형                     TYPE_NAME\n",
    "    DUR번호                     DUR_SEQ\n",
    "    품목명                      ITEM_NAME\n",
    "    업체명                      ENTP_NAME\n",
    "    주성분                      MAIN_INGR\n",
    "    성상                        CHART\n",
    "    제형코드                    FORM_CODE\n",
    "    변경일자                    CHANGE_DATE\n",
    "    전문/일반코드               ETC_OTC_CODE\n",
    "    전문/일반구분               ETC_OTC_NAME\n",
    "    분류코드                    CLASS_CODE\n",
    "    분류                        CLASS_NAME\n",
    "    품목허가일자                ITEM_PERMIT_DATE\n",
    "    병용금기약물-DUR번호        MIXTURE_DUR_SEQ\n",
    "    병용금기약물-품목명         MIXTURE_ITEM_NAME\n",
    "    병용금기약물-업체명         MIXTURE_ENTP_NAME\n",
    "    병용금기약물-주성분         MIXTURE_MAIN_INGR\n",
    "    병용금기약물-성상           MIXTURE_CHART\n",
    "    병용금기약물-제형코드       MIXTURE_FORM_CODE\n",
    "    병용금기약물-전문/일반코드  MIXTURE_ETC_OTC_CODE\n",
    "    병용금기약물-전문/일반구분  MIXTURE_ETC_OTC_NAME\n",
    "    병용금기약물-분류코드       MIXTURE_CLASS_CODE\n",
    "    병용금기약물-분류           MIXTURE_CLASS_NAME\n",
    "    병용금기약물-변경일자       MIXTURE_CHANGE_DATE\n",
    "    병용금기약물-품목허가일자   MIXTURE_ITEM_PERMIT_DATE\n",
    "    고시일자                    NOTIFICATION_DATE\n",
    "    사업자등록번호              BIZRNO\n",
    "    "
   ]
  },
  {
   "cell_type": "markdown",
   "metadata": {},
   "source": [
    "    ***** 서방정분할주의 제외 컬럼 *****\n",
    "    DUR유형                     TYPE_NAME\n",
    "    품목명                      ITEM_NAME\n",
    "    업체명                      ENTP_NAME\n",
    "    주성분                      MAIN_INGR\n",
    "    성상                        CHART\n",
    "    변경일자                    CHANGE_DATE\n",
    "    전문/일반구분               ETC_OTC_NAME\n",
    "    분류코드                    CLASS_CODE\n",
    "    분류                        CLASS_NAME\n",
    "    품목허가일자                ITEM_PERMIT_DATE\n",
    "    사업자등록번호              BIZRNO\n",
    "    "
   ]
  },
  {
   "cell_type": "markdown",
   "metadata": {},
   "source": [
    "    ***** 효능군중복 제외 컬럼 *****\n",
    "    DUR유형                     TYPE_NAME\n",
    "    DUR번호                     DUR_SEQ\n",
    "    품목명                      ITEM_NAME\n",
    "    업체명                      ENTP_NAME\n",
    "    주성분                      MAIN_INGR\n",
    "    전체성분명                  INGR_ENG_NAME_FULL\n",
    "    성상                        CHART\n",
    "    제형코드                    FORM_CODE\n",
    "    제형구분                    FORM_CODE_NAME\n",
    "    (제형(FORM_NAME)은 제외 x)\n",
    "    변경일자                    CHANGE_DATE\n",
    "    전문/일반코드               ETC_OTC_CODE\n",
    "    전문/일반구분               ETC_OTC_NAME\n",
    "    분류코드                    CLASS_CODE\n",
    "    분류                        CLASS_NAME\n",
    "    품목허가일자                ITEM_PERMIT_DATE\n",
    "    고시일자                    NOTIFICATION_DATE\n",
    "    사업자등록번호              BIZRNO"
   ]
  },
  {
   "cell_type": "markdown",
   "metadata": {},
   "source": [
    "    *****  그 외 제외 컬럼 *****\n",
    "    DUR유형                     TYPE_NAME\n",
    "    품목명                      ITEM_NAME\n",
    "    업체명                      ENTP_NAME\n",
    "    전체성분명                  INGR_ENG_NAME_FULL\n",
    "    주성분                      MAIN_INGR\n",
    "    성상                        CHART\n",
    "    변경일자                    CHANGE_DATE\n",
    "    전문/일반구분               ETC_OTC_NAME\n",
    "    분류코드                    CLASS_CODE\n",
    "    분류                        CLASS_NAME\n",
    "    품목허가일자                ITEM_PERMIT_DATE\n",
    "    고시일자                    NOTIFICATION_DATE\n",
    "    "
   ]
  },
  {
   "cell_type": "code",
   "execution_count": null,
   "metadata": {},
   "outputs": [],
   "source": [
    "for operation, target in tqdm(raw_dfs[\"DUR품목정보\"].items()):\n",
    "    # 제거할 컬럼 결정\n",
    "    if(operation == \"병용금기\"):\n",
    "        target_cols = [\n",
    "            \"TYPE_CODE\", \"TYPE_NAME\", \"DUR_SEQ\", \"ITEM_NAME\", \"ENTP_NAME\", \"MAIN_INGR\", \"CHART\",\n",
    "            \"FORM_CODE\", \"CHANGE_DATE\", \"ETC_OTC_CODE\", \"ETC_OTC_NAME\", \"CLASS_CODE\",\n",
    "            \"CLASS_NAME\", \"ITEM_PERMIT_DATE\", \"MIXTURE_DUR_SEQ\", \"MIXTURE_ITEM_NAME\",\n",
    "            \"MIXTURE_ENTP_NAME\", \"MIXTURE_MAIN_INGR\", \"MIXTURE_CHART\", \"MIXTURE_FORM_CODE\",\n",
    "            \"MIXTURE_ETC_OTC_CODE\", \"MIXTURE_ETC_OTC_NAME\", \"MIXTURE_CLASS_CODE\", \"MIXTURE_CLASS_NAME\", \n",
    "            \"MIXTURE_CHANGE_DATE\", \"MIXTURE_ITEM_PERMIT_DATE\", \"NOTIFICATION_DATE\", \"BIZRNO\"\n",
    "        ]\n",
    "    elif(operation == \"서방정분할주의\"):\n",
    "        target_cols = [\n",
    "            \"TYPE_NAME\", \"ITEM_NAME\", \"ENTP_NAME\", \"MAIN_INGR\", \"CHART\", \n",
    "            \"CHANGE_DATE\", \"ETC_OTC_NAME\", \"CLASS_CODE\", \"CLASS_NAME\",\n",
    "            \"ITEM_PERMIT_DATE\", \"BIZRNO\"\n",
    "        ]\n",
    "    elif(operation == \"효능군중복\"):\n",
    "        target_cols = [\n",
    "            \"TYPE_NAME\", \"DUR_SEQ\", \"ITEM_NAME\", \"ENTP_NAME\", \"MAIN_INGR\", \"INGR_ENG_NAME_FULL\",\n",
    "            \"CHART\", \"FORM_CODE\", \"FORM_CODE_NAME\", \"CHANGE_DATE\", \"ETC_OTC_CODE\", \"ETC_OTC_NAME\", \n",
    "            \"CLASS_CODE\", \"CLASS_NAME\", \"ITEM_PERMIT_DATE\",\n",
    "            \"NOTIFICATION_DATE\", \"BIZRNO\"\n",
    "        ]\n",
    "    else:\n",
    "        target_cols = [\n",
    "            \"TYPE_NAME\", \"ITEM_NAME\", \"ENTP_NAME\", \"INGR_ENG_NAME_FULL\", \"MAIN_INGR\",\n",
    "            \"CHART\", \"CHANGE_DATE\", \"ETC_OTC_NAME\", \"CLASS_CODE\", \"CLASS_NAME\", \n",
    "            \"ITEM_PERMIT_DATE\", \"NOTIFICATION_DATE\",\n",
    "        ]\n",
    "\n",
    "    # 목표 데이터프레임 레퍼런스\n",
    "    target = raw_dfs[\"DUR품목정보\"][operation]\n",
    "\n",
    "    target.drop(target_cols, axis=1, inplace=True)"
   ]
  },
  {
   "cell_type": "markdown",
   "metadata": {},
   "source": [
    "#### >> DUR성분정보 및 품목정보 통합"
   ]
  },
  {
   "cell_type": "markdown",
   "metadata": {},
   "source": [
    "DUR성분정보 중  \n",
    "~~병용금기~~  \n",
    "~~노인주의~~  \n",
    "~~효능군중복~~  \n",
    "API 데이터는 중복 컬럼을 제외하면 유용한 컬럼이 없으므로 배제"
   ]
  },
  {
   "cell_type": "markdown",
   "metadata": {},
   "source": [
    "    DUR성분정보-임부금기\n",
    "    => 임부금기등급(GRADE) 추출하여 품목정보에 추가"
   ]
  },
  {
   "cell_type": "code",
   "execution_count": null,
   "metadata": {},
   "outputs": [],
   "source": [
    "meditem = raw_dfs[\"DUR품목정보\"][\"임부금기\"]\n",
    "medingr = raw_dfs[\"DUR성분정보\"][\"임부금기\"]\n",
    "meditem[\"GRADE\"] = pd.Series()\n",
    "\n",
    "for idx, row in tqdm(meditem.iterrows()):\n",
    "    ingr_code = row.loc[\"INGR_CODE\"]\n",
    "    grade = medingr[medingr[\"INGR_CODE\"]==ingr_code].iloc[0][\"GRADE\"]\n",
    "    meditem.at[idx, \"GRADE\"] = grade"
   ]
  },
  {
   "cell_type": "markdown",
   "metadata": {},
   "source": [
    "    DUR성분정보-특정연령대금기\n",
    "    => 기준연령(AGE_BASE) 추출하여 품목정보에 추가"
   ]
  },
  {
   "cell_type": "code",
   "execution_count": null,
   "metadata": {},
   "outputs": [],
   "source": [
    "meditem = raw_dfs[\"DUR품목정보\"][\"특정연령대금기\"]\n",
    "medingr = raw_dfs[\"DUR성분정보\"][\"특정연령대금기\"]\n",
    "meditem[\"AGE_BASE\"] = pd.Series()\n",
    "\n",
    "for idx, row in tqdm(meditem.iterrows()):\n",
    "    ingr_code = row.loc[\"INGR_CODE\"]\n",
    "    grade = medingr[medingr[\"INGR_CODE\"]==ingr_code].iloc[0][\"AGE_BASE\"]\n",
    "    meditem.at[idx, \"AGE_BASE\"] = grade"
   ]
  },
  {
   "cell_type": "markdown",
   "metadata": {},
   "source": [
    "    DUR성분정보-용량주의\n",
    "    => 1일최대용량(MAX_QTY) 추출하여 품목정보에 추가"
   ]
  },
  {
   "cell_type": "code",
   "execution_count": null,
   "metadata": {},
   "outputs": [],
   "source": [
    "meditem = raw_dfs[\"DUR품목정보\"][\"용량주의\"]\n",
    "medingr = raw_dfs[\"DUR성분정보\"][\"용량주의\"]\n",
    "meditem[\"MAX_QTY\"] = pd.Series()\n",
    "\n",
    "for idx, row in tqdm(meditem.iterrows()):\n",
    "    ingr_code = row.loc[\"INGR_CODE\"]\n",
    "    grade = medingr[medingr[\"INGR_CODE\"]==ingr_code].iloc[0][\"MAX_QTY\"]\n",
    "    meditem.at[idx, \"MAX_QTY\"] = grade"
   ]
  },
  {
   "cell_type": "markdown",
   "metadata": {},
   "source": [
    "    DUR성분정보-투여기간주의\n",
    "    => 최대투여기간(MAX_DOSAGE_TERM) 추출하여 품목정보에 추가"
   ]
  },
  {
   "cell_type": "code",
   "execution_count": null,
   "metadata": {},
   "outputs": [],
   "source": [
    "meditem = raw_dfs[\"DUR품목정보\"][\"투여기간주의\"]\n",
    "medingr = raw_dfs[\"DUR성분정보\"][\"투여기간주의\"]\n",
    "meditem[\"MAX_DOSAGE_TERM\"] = pd.Series()\n",
    "\n",
    "for idx, row in tqdm(meditem.iterrows()):\n",
    "    ingr_code = row.loc[\"INGR_CODE\"]\n",
    "    grade = medingr[medingr[\"INGR_CODE\"]==ingr_code].iloc[0][\"MAX_DOSAGE_TERM\"]\n",
    "    meditem.at[idx, \"MAX_DOSAGE_TERM\"] = grade"
   ]
  },
  {
   "cell_type": "markdown",
   "metadata": {},
   "source": [
    "### > 의약품 레코드 불일치 해결"
   ]
  },
  {
   "cell_type": "markdown",
   "metadata": {},
   "source": [
    "#### >> 레코드 내 완전 일치 레코드 삭제"
   ]
  },
  {
   "cell_type": "markdown",
   "metadata": {},
   "source": [
    "    완전 일치 레코드란 인덱스를 제외한 모든 컬럼의 값이 동일한 레코드를 말합니다."
   ]
  },
  {
   "cell_type": "code",
   "execution_count": null,
   "metadata": {},
   "outputs": [],
   "source": [
    "##### 모든 행이 일치하는 레코드 삭제 #####\n",
    "raw_dfs[\"의약품허가정보\"][\"허가목록\"].drop_duplicates(inplace=True)\n",
    "raw_dfs[\"의약품허가정보\"][\"허가상세정보\"].drop_duplicates(inplace=True)\n",
    "raw_dfs[\"낱알식별정보\"][\"낱알식별정보\"].drop_duplicates(inplace=True)"
   ]
  },
  {
   "cell_type": "markdown",
   "metadata": {},
   "source": [
    "    낱알식별정보-낱알식별정보 데이터프레임 중  \n",
    "    ITEM_SEQ가 중복이지만, 모든 컬럼이 완전히 일치하지는 않는 경우가 있는지 확인"
   ]
  },
  {
   "cell_type": "code",
   "execution_count": null,
   "metadata": {},
   "outputs": [],
   "source": [
    "df = raw_dfs[\"의약품허가정보\"][\"허가목록\"].copy()\n",
    "\n",
    "# 중복 기준: ITEM_SEQ\n",
    "# 중복된 모든 행(첫 행을 제외하지 않은)을 추출\n",
    "dup_df = df.loc[df.duplicated(['ITEM_SEQ']), :]\n",
    "dup_item_seq_set_df = dup_df['ITEM_SEQ'].drop_duplicates()\n",
    "\n",
    "loose = []\n",
    "for item_seq in tqdm(dup_item_seq_set_df):\n",
    "    loose.append(df[(df['ITEM_SEQ']==item_seq)])\n",
    "if loose:\n",
    "    all_dup_df = pd.concat(loose)\n",
    "    print(f\"중복 품목기준번호 수: {len(dup_df['ITEM_SEQ'].unique())}\")\n",
    "    print(f\"중복 레코드 수: {len(all_dup_df)}\")\n",
    "    display(all_dup_df)\n",
    "else:\n",
    "    print(\"'의약품허가정보-허가목록' 에서\")\n",
    "    print(\"모든 컬럼이 완전히 동일한 레코드를 제외하면 중복된 ITEM_SEQ를 가지는 레코드가 존재하지 않습니다!\")"
   ]
  },
  {
   "cell_type": "markdown",
   "metadata": {},
   "source": [
    "    의약품허가정보-허가목록 데이터프레임 중  \n",
    "    ITEM_SEQ가 중복이지만, 모든 컬럼이 완전히 일치하지는 않는 경우가 있는지 확인"
   ]
  },
  {
   "cell_type": "code",
   "execution_count": null,
   "metadata": {},
   "outputs": [],
   "source": [
    "df = raw_dfs[\"의약품허가정보\"][\"허가상세정보\"].copy()\n",
    "\n",
    "# 중복 기준: ITEM_SEQ\n",
    "# 중복된 모든 행(첫 행을 제외하지 않은)을 추출\n",
    "dup_df = df.loc[df.duplicated(['ITEM_SEQ']), :]\n",
    "dup_item_seq_set_df = dup_df['ITEM_SEQ'].drop_duplicates()\n",
    "\n",
    "loose = []\n",
    "for item_seq in tqdm(dup_item_seq_set_df):\n",
    "    loose.append(df[(df['ITEM_SEQ']==item_seq)])\n",
    "if loose:\n",
    "    all_dup_df = pd.concat(loose)\n",
    "    print(f\"중복 품목기준번호 수: {len(dup_df['ITEM_SEQ'].unique())}\")\n",
    "    print(f\"중복 레코드 수: {len(all_dup_df)}\")\n",
    "    display(all_dup_df)\n",
    "else:\n",
    "    print(\"'의약품허가정보-허가상세정보' 에서\")\n",
    "    print(\"모든 컬럼이 완전히 동일한 레코드를 제외하면 중복된 ITEM_SEQ를 가지는 레코드가 존재하지 않습니다!\")"
   ]
  },
  {
   "cell_type": "markdown",
   "metadata": {},
   "source": [
    "    의약품허가정보-허가상세정보 데이터프레임 중  \n",
    "    ITEM_SEQ가 중복이지만, 모든 컬럼이 완전히 일치하지는 않는 경우가 있는지 확인"
   ]
  },
  {
   "cell_type": "code",
   "execution_count": null,
   "metadata": {},
   "outputs": [],
   "source": [
    "df = raw_dfs[\"낱알식별정보\"][\"낱알식별정보\"].copy()\n",
    "\n",
    "# 중복 기준: ITEM_SEQ\n",
    "# 중복된 모든 행(첫 행을 제외하지 않은)을 추출\n",
    "dup_df = df.loc[df.duplicated(['ITEM_SEQ']), :]\n",
    "dup_item_seq_set_df = dup_df['ITEM_SEQ'].drop_duplicates()\n",
    "\n",
    "loose = []\n",
    "for item_seq in tqdm(dup_item_seq_set_df):\n",
    "    loose.append(df[(df['ITEM_SEQ']==item_seq)])\n",
    "if loose:\n",
    "    all_dup_df = pd.concat(loose)\n",
    "    print(f\"중복 품목기준번호 수: {len(dup_df['ITEM_SEQ'].unique())}\")\n",
    "    print(f\"중복 레코드 수: {len(all_dup_df)}\")\n",
    "    display(all_dup_df)\n",
    "    print(\"'낱알식별정보-낱알식별정보' 의 경우\")\n",
    "    print(\"중복된 ITEM_SEQ 값을 가지는 레코드들이 다른 식별 정보를 가집니다.\")\n",
    "else:\n",
    "    print(\"'낱알식별정보-낱알식별정보' 에서\")\n",
    "    print(\"모든 컬럼이 완전히 동일한 레코드를 제외하면 중복된 ITEM_SEQ를 가지는 레코드가 존재하지 않습니다!\")"
   ]
  },
  {
   "cell_type": "markdown",
   "metadata": {},
   "source": [
    "#### >> 불일치 레코드 해결"
   ]
  },
  {
   "cell_type": "markdown",
   "metadata": {},
   "source": [
    "    `의약품허가정보-허가상세정보` 를 중심으로 불일치 레코드를 제거합니다"
   ]
  },
  {
   "cell_type": "code",
   "execution_count": null,
   "metadata": {},
   "outputs": [],
   "source": [
    "set_of_허가상세정보 = set(raw_dfs[\"의약품허가정보\"][\"허가상세정보\"][\"ITEM_SEQ\"])\n",
    "set_of_허가목록 = set(raw_dfs[\"의약품허가정보\"][\"허가목록\"][\"ITEM_SEQ\"])\n",
    "set_of_낱알식별정보 = set(raw_dfs[\"낱알식별정보\"][\"낱알식별정보\"][\"ITEM_SEQ\"])"
   ]
  },
  {
   "cell_type": "code",
   "execution_count": null,
   "metadata": {},
   "outputs": [],
   "source": [
    "print(f\"허가상세정보 ITEM_SEQ 집합 크기         : {len(set_of_허가상세정보)}\")\n",
    "print(f\"허가목록 ITEM_SEQ 집합 크기             : {len(set_of_허가목록)}\")\n",
    "\n",
    "inter1 = set_of_허가상세정보.intersection(set_of_허가목록)\n",
    "print(f\"교집합 크기                            : {len(inter1)}\")"
   ]
  },
  {
   "cell_type": "markdown",
   "metadata": {},
   "source": [
    "    교집합의 크기가 허가목록 집합의 크기와 같은 것으로 미루어 보아\n",
    "    허가상세정보 ⊃ 허가목록입니다.\n",
    "    허가목록의 컬럼이 필수적이지 않으므로, 허가목록에 존재하지 않는 허가상세정보 레코드를 삭제할 필요는 없습니다\n",
    "\n",
    "    품목기준번호를 기준으로 허가상세정보에 허가목록의 레코드를 이어 붙여야합니다 => Outer join"
   ]
  },
  {
   "cell_type": "code",
   "execution_count": null,
   "metadata": {},
   "outputs": [],
   "source": [
    "medicine_info = pd.merge(raw_dfs[\"의약품허가정보\"][\"허가목록\"], raw_dfs[\"의약품허가정보\"][\"허가상세정보\"], left_on='ITEM_SEQ', right_on='ITEM_SEQ', how='outer')\n",
    "medicine_info"
   ]
  },
  {
   "cell_type": "markdown",
   "metadata": {},
   "source": [
    "    허가상세정보 레코드 수  = 49,717\n",
    "    허가목록 레코드 수      = 49,698\n",
    "    아우터 조인 레코드 수   = 49,717\n",
    "\n",
    "    한편, 낱알식별정보에 대해서도 레코드 불일치 여부를 확인해야합니다."
   ]
  },
  {
   "cell_type": "code",
   "execution_count": null,
   "metadata": {},
   "outputs": [],
   "source": [
    "print(f\"낱알식별정보 ITEM_SEQ 집합 크기         : {len(set_of_낱알식별정보)}\")\n",
    "\n",
    "inter2 = set_of_허가상세정보.intersection(set_of_낱알식별정보)\n",
    "print(f\"허가상세정보-낱알식별정보 교집합 크기   : {len(inter2)}\")\n",
    "\n",
    "sub = set_of_낱알식별정보 - set_of_허가상세정보\n",
    "print(f\"차집합 크기                             : {len(sub)}\")"
   ]
  },
  {
   "cell_type": "markdown",
   "metadata": {},
   "source": [
    "    차집합에 해당하는 품목기준번호를 임의로 뽑아서 식약처에 검색해본 결과 결과가 나오지 않는 것으로 미루어보아.\n",
    "    해당 의약품들은 식약처에서 더 이상 관리하지 의약품인 것 같습니다.\n",
    "    \n",
    "    따라서, 낱알식별정보로부터 해당 품목기준번호를 가지고 있는 레코드를 삭제해야합니다."
   ]
  },
  {
   "cell_type": "code",
   "execution_count": null,
   "metadata": {},
   "outputs": [],
   "source": [
    "phill_appearance = raw_dfs[\"낱알식별정보\"][\"낱알식별정보\"].copy()\n",
    "phill_appearance = phill_appearance[phill_appearance[\"ITEM_SEQ\"].isin(inter2)]\n",
    "phill_appearance"
   ]
  },
  {
   "cell_type": "markdown",
   "metadata": {},
   "source": [
    "    DUR품목정보 데이터프레임 중 item_seq가 medicine_info 데이터프레임에 존재하지 않는 레코드를 삭제합니다."
   ]
  },
  {
   "cell_type": "code",
   "execution_count": null,
   "metadata": {},
   "outputs": [],
   "source": [
    "set_of_medicine_info = set(medicine_info[\"ITEM_SEQ\"])\n",
    "\n",
    "for operation, df in tqdm(raw_dfs[\"DUR품목정보\"].items()):\n",
    "    set_of_operation = set(df[\"ITEM_SEQ\"])\n",
    "    inter = set_of_medicine_info.intersection(set_of_operation)\n",
    "    df = df[df[\"ITEM_SEQ\"].isin(inter)]\n",
    "\n",
    "    print(f\"{operation}: {len(set_of_operation)-len(inter)} 개 품목 제외\")\n",
    "\n",
    "dur_elder = raw_dfs[\"DUR품목정보\"][\"노인주의\"]\n",
    "dur_concomitant = raw_dfs[\"DUR품목정보\"][\"병용금기\"]\n",
    "dur_xrsplit = raw_dfs[\"DUR품목정보\"][\"서방정분할주의\"]\n",
    "dur_dosage = raw_dfs[\"DUR품목정보\"][\"용량주의\"]\n",
    "dur_pregnancy = raw_dfs[\"DUR품목정보\"][\"임부금기\"]\n",
    "dur_period = raw_dfs[\"DUR품목정보\"][\"투여기간주의\"]\n",
    "dur_age = raw_dfs[\"DUR품목정보\"][\"특정연령대금기\"]\n",
    "dur_efficacyduplication = raw_dfs[\"DUR품목정보\"][\"효능군중복\"]\n"
   ]
  },
  {
   "cell_type": "markdown",
   "metadata": {},
   "source": [
    "### > medicine_info 분리"
   ]
  },
  {
   "cell_type": "markdown",
   "metadata": {},
   "source": [
    "- medinfo_filter: 검색 필터로 사용되는 컬럼\n",
    "- medinfo_nonfileter: 검색 필터로 사용되지 않는 컬럼"
   ]
  },
  {
   "cell_type": "code",
   "execution_count": null,
   "metadata": {},
   "outputs": [],
   "source": [
    "#ITEM_SEQ를 제외한 필터 리스트\n",
    "filter_list = [\"ITEM_NAME\", \"ITEM_ENG_NAME\", \"ENTP_NAME\", \"ENTP_ENG_NAME\", \"MAIN_ITEM_INGR\", \"INGR_NAME\", \"MAIN_INGR_ENG\"]\n",
    "\n",
    "#ITEM_SEQ 컬럼은 두 데이터프레임에 모두 포함되어야 한다.\n",
    "medinfo_filter = medicine_info[[\"ITEM_SEQ\"] + filter_list].copy()\n",
    "medinfo_nonfilter = medicine_info.copy().drop(columns = filter_list)"
   ]
  },
  {
   "cell_type": "markdown",
   "metadata": {},
   "source": [
    "### > 데이터프레임 컬럼 형식 수정"
   ]
  },
  {
   "cell_type": "code",
   "execution_count": null,
   "metadata": {},
   "outputs": [],
   "source": [
    "dfs = {\n",
    "    \"medinfo_filter\": medinfo_filter, \n",
    "    \"medinfo_nonfilter\": medinfo_nonfilter, \n",
    "    \"phill_appearance\": phill_appearance, \n",
    "    \"dur_elder\": dur_elder,\n",
    "    \"dur_concomitant\": dur_concomitant, \n",
    "    \"dur_xrsplit\": dur_xrsplit, \n",
    "    \"dur_dosage\": dur_dosage, \n",
    "    \"dur_pregnancy\": dur_pregnancy, \n",
    "    \"dur_period\": dur_period, \n",
    "    \"dur_age\": dur_age, \n",
    "    \"dur_efficacyduplication\": dur_efficacyduplication\n",
    "}"
   ]
  },
  {
   "cell_type": "markdown",
   "metadata": {},
   "source": [
    "#### >> 개행 문자 제거"
   ]
  },
  {
   "cell_type": "markdown",
   "metadata": {},
   "source": [
    " - 문서 데이터 컬럼(EE_DOC_DATA, UD_DOC_DATA, NB_DOC_DATA)를 제외한 나머지 모든 컬럼에 존재하는 개행문자(\\n, \\r)를 제거합니다.\n"
   ]
  },
  {
   "cell_type": "code",
   "execution_count": null,
   "metadata": {},
   "outputs": [],
   "source": [
    "for name, df in tqdm(dfs.items()):\n",
    "    for col in df.columns:\n",
    "        if col not in [\"EE_DOC_DATA\", \"UD_DOC_DATA\", \"NB_DOC_DATA\"]:\n",
    "            df[col].replace(\"\\n\", \"\", regex=True, inplace=True)\n",
    "            df[col].replace(\"\\r\", \"\", regex=True, inplace=True)"
   ]
  },
  {
   "cell_type": "markdown",
   "metadata": {},
   "source": [
    "#### >> 알약식별정보 형식 수정"
   ]
  },
  {
   "cell_type": "markdown",
   "metadata": {},
   "source": [
    "앞 뒷면의 음각정보 각각에 대해\n",
    "1. \"분할선\"을 공백 한 칸으로 대체  \n",
    "2. \"십자\"를 삭제\n",
    "3. \"마크\" 앞, 뒤에 공백 삽입\n",
    "4. 바로 앞 또는 맨 뒤 공백 제거 / 연속 공백을 공백 한 칸으로 대체"
   ]
  },
  {
   "cell_type": "code",
   "execution_count": null,
   "metadata": {},
   "outputs": [],
   "source": [
    "phill_appearance[\"PRINT_FRONT\"].replace(\"분할선\", \" \", regex=True, inplace=True)\n",
    "phill_appearance[\"PRINT_FRONT\"].replace(\"십자\", \"\", regex=True, inplace=True)\n",
    "phill_appearance[\"PRINT_FRONT\"].replace(\"마크\", \" 마크 \", regex=True, inplace=True)\n",
    "phill_appearance[\"PRINT_FRONT\"] = phill_appearance[\"PRINT_FRONT\"].apply(lambda x: ' '.join(x.split()) if isinstance(x, str) else x)\n",
    "\n",
    "phill_appearance[\"PRINT_BACK\"].replace(\"분할선\", \" \", regex=True, inplace=True)\n",
    "phill_appearance[\"PRINT_BACK\"].replace(\"십자\", \"\", regex=True, inplace=True)\n",
    "phill_appearance[\"PRINT_BACK\"].replace(\"마크\", \" 마크 \", regex=True, inplace=True)\n",
    "phill_appearance[\"PRINT_FRONT\"] = phill_appearance[\"PRINT_BACK\"].apply(lambda x: ' '.join(x.split()) if x is isinstance(x, str) else x)\n",
    "\n",
    "phill_appearance[[\"PRINT_FRONT\", \"PRINT_BACK\"]]"
   ]
  },
  {
   "cell_type": "markdown",
   "metadata": {},
   "source": [
    "#### >> 검색 필터 컬럼 내 구분자 앞뒤로 공백 추가"
   ]
  },
  {
   "cell_type": "markdown",
   "metadata": {},
   "source": [
    " - 검색 필터를 포함하는 medinfo_filter 그리고 phill_appearance 데이터프레임에 대해서 수행\n",
    " - | 와 / 앞, 뒤로 공백 문자를 삽입한 뒤 연속 공백을 제거한다."
   ]
  },
  {
   "cell_type": "code",
   "execution_count": null,
   "metadata": {},
   "outputs": [],
   "source": [
    "# MAIN_ITEM_INGR , INGR_NAME , MAIN_INGR_ENG\n",
    "medinfo_filter[\"MAIN_ITEM_INGR\"].replace(\"\\|\", \" | \", regex=True, inplace=True)\n",
    "medinfo_filter[\"MAIN_ITEM_INGR\"] = medinfo_filter[\"MAIN_ITEM_INGR\"].apply(lambda x: ' '.join(x.split()) if isinstance(x, str) else x)\n",
    "medinfo_filter[\"INGR_NAME\"].replace(\"\\|\", \" | \", regex=True, inplace=True)\n",
    "medinfo_filter[\"INGR_NAME\"] = medinfo_filter[\"INGR_NAME\"].apply(lambda x: ' '.join(x.split()) if isinstance(x, str) else x)\n",
    "medinfo_filter[\"MAIN_INGR_ENG\"].replace(\"/\", \" / \", regex=True, inplace=True)\n",
    "medinfo_filter[\"MAIN_INGR_ENG\"] = medinfo_filter[\"MAIN_INGR_ENG\"].apply(lambda x: ' '.join(x.split()) if isinstance(x, str) else x)\n",
    "\n",
    "\n",
    "medinfo_filter"
   ]
  },
  {
   "cell_type": "code",
   "execution_count": null,
   "metadata": {},
   "outputs": [],
   "source": [
    "# DRUG_SHAPE , COLOR_CLASS1 , COLOR_CLASS2\n",
    "phill_appearance[\"DRUG_SHAPE\"].replace(\",\", \" , \", regex=True, inplace=True)\n",
    "phill_appearance[\"DRUG_SHAPE\"] = phill_appearance[\"DRUG_SHAPE\"].apply(lambda x: ' '.join(x.split()) if isinstance(x, str) else x)\n",
    "phill_appearance[\"COLOR_CLASS1\"].replace(\",\", \" , \", regex=True, inplace=True)\n",
    "phill_appearance[\"COLOR_CLASS1\"] = phill_appearance[\"COLOR_CLASS1\"].apply(lambda x: ' '.join(x.split()) if isinstance(x, str) else x)\n",
    "phill_appearance[\"COLOR_CLASS2\"].replace(\",\", \" , \", regex=True, inplace=True)\n",
    "phill_appearance[\"COLOR_CLASS2\"] = phill_appearance[\"COLOR_CLASS2\"].apply(lambda x: ' '.join(x.split()) if isinstance(x, str) else x)\n",
    "phill_appearance[\"FORM_CODE_NAME\"].replace(\",\", \" , \", regex=True, inplace=True)\n",
    "phill_appearance[\"FORM_CODE_NAME\"] = phill_appearance[\"FORM_CODE_NAME\"].apply(lambda x: ' '.join(x.split()) if isinstance(x, str) else x)\n",
    "\n",
    "phill_appearance"
   ]
  },
  {
   "cell_type": "markdown",
   "metadata": {},
   "source": [
    "#### >> 성분명 컬럼에 포함된 원료 코드([M000000] 형식) 부분 제거"
   ]
  },
  {
   "cell_type": "markdown",
   "metadata": {},
   "source": [
    "[Mxxxxxx] 형식의 성분 코드를 전부 삭제합니다.  \n",
    "삭제하는 이유는 해당 성분 코드를 사용할 일이 없을 뿐더러, 제거하는 것이 더 효율적인 검색이 가능하기 때문입니다.  \n",
    "삭제 대상 컬럼은 아래와 같습니다.\n",
    " - medinfo_filter 중 MAIN_ITEM_INGR, INFR_NAME\n",
    " - dur_elder 중 MIX_INGR\n"
   ]
  },
  {
   "cell_type": "code",
   "execution_count": null,
   "metadata": {},
   "outputs": [],
   "source": [
    "medinfo_filter[\"MAIN_ITEM_INGR\"].replace(\"\\[M......\\]\", \"\", regex=True, inplace=True)\n",
    "medinfo_filter[\"INGR_NAME\"].replace(\"\\[M......\\]\", \"\", regex=True, inplace=True)\n",
    "\n",
    "dur_elder[\"MIX_INGR\"].replace(\"\\[M......\\]\", \"\", regex=True, inplace=True)\n",
    "dur_elder"
   ]
  },
  {
   "cell_type": "markdown",
   "metadata": {},
   "source": [
    "#### >> 모든 컬럼을 큰 따옴표로 감싸기"
   ]
  },
  {
   "cell_type": "code",
   "execution_count": null,
   "metadata": {},
   "outputs": [],
   "source": [
    "for name, df in tqdm(dfs.items()):\n",
    "    for idx, row in df.iterrows():\n",
    "        for col in df.columns:\n",
    "            content = row.loc[col]\n",
    "            # 문자열 형식이면서, 내용이 비어있거나 공백으로만 구성되지 않은 경우에만 큰 따옴표로 감쌉니다\n",
    "            # 숫자 형식 코드가 한 개인 경우 정수로 인식되므로 큰 따옴표로 감싸지지 않으며,\n",
    "            # 코드 여러 개가 컴마로 구분되어 있는 경우 문자열로 인식되기 때문에 큰 따옴표로 감싸진다.\n",
    "            if isinstance(content, str) and content and not content.isspace():\n",
    "                df.at[idx, col] = \"\\\"\" + content + \"\\\"\""
   ]
  },
  {
   "cell_type": "markdown",
   "metadata": {},
   "source": [
    "#### >> 컬럼 최대 길이 파악"
   ]
  },
  {
   "cell_type": "code",
   "execution_count": null,
   "metadata": {},
   "outputs": [],
   "source": [
    "for name, df in dfs.items():\n",
    "\n",
    "    print(f\"at {name}\")\n",
    "    for col in df.columns:\n",
    "\n",
    "        maxlen = 0\n",
    "        curlen = 0\n",
    "        for item in df[col]:\n",
    "            curlen = len(str(item))\n",
    "            if maxlen < curlen:\n",
    "                maxlen = curlen\n",
    "\n",
    "        print(f\"    {col}: {maxlen}\")"
   ]
  },
  {
   "cell_type": "markdown",
   "metadata": {},
   "source": [
    "### 내보내기"
   ]
  },
  {
   "cell_type": "code",
   "execution_count": null,
   "metadata": {},
   "outputs": [],
   "source": [
    "# 디렉토리 생성\n",
    "dir = f\"{window.file}\\\\csv\\\\picked-out\\\\\"\n",
    "if not os.path.exists(dir):\n",
    "    os.makedirs(dir)\n",
    "\n",
    "# 내보내기\n",
    "medinfo_filter.to_csv(dir + \"medinfo_filter.csv\", index=False)\n",
    "medinfo_nonfilter.to_csv(dir + \"medinfo_nonfilter.csv\", index=False)\n",
    "phill_appearance.to_csv(dir + \"phill_appearance.csv\", index=False)\n",
    "dur_elder.to_csv(dir + \"dur_elder.csv\", index=False)\n",
    "dur_concomitant.to_csv(dir + \"dur_concomitant.csv\", index=False)\n",
    "dur_xrsplit.to_csv(dir + \"dur_xrsplit.csv\", index=False)\n",
    "dur_dosage.to_csv(dir + \"dur_dosage.csv\", index=False)\n",
    "dur_pregnancy.to_csv(dir + \"dur_pregnancy.csv\", index=False)\n",
    "dur_period.to_csv(dir + \"dur_period.csv\", index=False)\n",
    "dur_age.to_csv(dir + \"dur_age.csv\", index=False)\n",
    "dur_efficacyduplication.to_csv(dir + \"dur_efficacyduplication.csv\", index=False)"
   ]
  }
 ],
 "metadata": {
  "kernelspec": {
   "display_name": "Python 3",
   "language": "python",
   "name": "python3"
  },
  "language_info": {
   "codemirror_mode": {
    "name": "ipython",
    "version": 3
   },
   "file_extension": ".py",
   "mimetype": "text/x-python",
   "name": "python",
   "nbconvert_exporter": "python",
   "pygments_lexer": "ipython3",
   "version": "3.10.7"
  },
  "orig_nbformat": 4
 },
 "nbformat": 4,
 "nbformat_minor": 2
}
